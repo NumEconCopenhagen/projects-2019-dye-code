{
 "cells": [
  {
   "cell_type": "markdown",
   "metadata": {},
   "source": [
    "# Model Project - DYE code\n",
    "# Overlapping Generations Model\n",
    "## 1. Household optimization and Intertemporal budget constraint\n",
    "We assume that the consumer has access to a competitive financial market, thus they are able to borrow or save at interest rate $r$. The utility of a houseehold over two periods (the household life-time utility) is given by the following time-additive utility function:\n",
    "\n",
    "$$U=u(c_1)+\\delta u(c_2),\\quad u'>0,\\quad u''<0,\\quad 0<\\delta\\leq1$$\n",
    "\n",
    "$c_1$ is consumption in period 1 and $c_2$ is the corresponding in period 2. $\\delta\\equiv\\frac{1}{1-\\rho}$ captures the preference between consumption in period 1 and 2. $\\rho$ is called the *rate of time prefference* and captures the households impacience. Note that the utility of consumption in period 2 is discounted by $\\delta$.\n",
    "\n",
    "For this project, we will use the Constant-Relative Risk Aversion (CRRA) utility function of the form:\n",
    "\n",
    "$$\n",
    "\\begin{equation}\n",
    "u\\left(c_{t}\\right)=\\begin{cases}\n",
    "\\frac{c^{1-\\alpha}}{1-\\alpha}, & \\text{if } \\alpha>0 \\text{ and } \\alpha \\neq 1 \\\\\n",
    "ln\\left(c\\right) & \\text{if } \\alpha=1\n",
    "\\end{cases}\n",
    "\\end{equation}\n",
    "$$\n",
    "\n",
    "We assume initial endowments in period 1 and 2, $e_1$ and $e_2$. One can think of $e_1$ as an income from period $t=0$ and $e_2$ as income from $t=1$. Given endowments in period 1, $e_1$ and period 2, $e_2$, households maximize their life-time utility, subject to their intertemporal budget constraint\n",
    "\n",
    "$$\\underset{c_1,c_2}{\\text{max}}\\quad u(c_1)+\\delta u(c_2)$$\n",
    "\n",
    "$$s.t.\\quad c_1 + \\frac{c_2}{1+r}  = e_1 + \\frac{e_2}{1+r} $$\n",
    "\n",
    "The first order condition is as follows:\n",
    "\n",
    "$${c_1^*}^{-\\alpha} = \\delta (1+r) {c_2^*}^{-\\alpha}$$\n",
    "\n",
    "$$\\Leftrightarrow c_2^* = \\left [\\delta (1+r) \\right]^\\frac{1}{\\alpha}c_1^* $$\n",
    "\n",
    "From the budget constraint we have:\n",
    "\n",
    "$$c_2^* = E[e](1+r)-c_1^*(1+r),\\quad E[e] \\equiv e_1 + \\frac{e_2}{1+r}$$\n",
    "\n",
    "Solving for $c_1^*$ (from the FOC and this binding budget):\n",
    "\n",
    "$$c_1^*  = \\frac{E[e]}{1+\\frac{\\left [\\delta (1+r) \\right]^\\frac{1}{\\alpha}}{1+r}}$$"
   ]
  },
  {
   "cell_type": "markdown",
   "metadata": {},
   "source": [
    "## 2. Defining model in python\n",
    "We will now define the above model in python before continuing to our analysis. Defining the model beforehand, will ensure a clean structure and make the analysis easier to interpret, without too much code mixed into the analysis itself. We start off as usual, by importing the necessary packages for this analysis."
   ]
  },
  {
   "cell_type": "code",
   "execution_count": 1,
   "metadata": {},
   "outputs": [],
   "source": [
    "#Import Packages\n",
    "%matplotlib inline\n",
    "import numpy as np\n",
    "import matplotlib.pyplot as plt\n",
    "from ipywidgets import interact, fixed"
   ]
  },
  {
   "cell_type": "markdown",
   "metadata": {},
   "source": [
    "Now, we define the model described as above."
   ]
  },
  {
   "cell_type": "code",
   "execution_count": 2,
   "metadata": {},
   "outputs": [],
   "source": [
    "# Define the Constant-Relative Risk Aversion (CRRA) utility function\n",
    "def u(c, alpha):\n",
    "    return (1/alpha)* c**(1-alpha)\n",
    "\n",
    "# Define the households life-time utility\n",
    "def U(c1, c2, alpha, delta):\n",
    "    return u(c1, alpha) + delta*u(c2, alpha)\n",
    "\n",
    "# Define the budget constraint\n",
    "def bud_cons(c1, r, e1, e2):\n",
    "    e = e1 + e2/(1+r) # total endowment\n",
    "    return e*(1+r) - c1*(1+r)\n",
    "\n",
    "# Define the indifference curve\n",
    "def indif_curve(c1, ubar, alpha, delta):\n",
    "    return  ( ((1-alpha)/delta)*(ubar - u(c1, alpha)) )**(1/(1-alpha))"
   ]
  },
  {
   "cell_type": "markdown",
   "metadata": {},
   "source": [
    "Define a function for solving the model:"
   ]
  },
  {
   "cell_type": "code",
   "execution_count": 3,
   "metadata": {},
   "outputs": [],
   "source": [
    "def solve_opt(r, alpha, delta, e1, e2):\n",
    "    \"\"\"This function solves the model by defining the first order condition and returning consumption in both periods as well as the life-time utility\"\"\"\n",
    "    e = e1 + e2/(1+r)\n",
    "    A = (delta*(1+r))**(1/alpha)\n",
    "    c1 = e/(1+A/(1+r))\n",
    "    c2 = c1*A\n",
    "    u = U(c1, c2, alpha, delta)\n",
    "    return c1, c2, u"
   ]
  },
  {
   "cell_type": "markdown",
   "metadata": {},
   "source": [
    "## 3. Preparing function for plotting\n",
    "The last step before making the analysis, is to prepare a function, that can plot the model for later use.\n",
    "We start by defining a set of pre-defined parameters and then continue to build a function."
   ]
  },
  {
   "cell_type": "code",
   "execution_count": 4,
   "metadata": {},
   "outputs": [],
   "source": [
    "# Predefined parameters\n",
    "alpha = 0.5\n",
    "delta = 1\n",
    "r = 0\n",
    "e1, e2 = 80, 20\n",
    "\n",
    "rmin, rmax = 0, 1\n",
    "cmax = 150\n",
    "\n",
    "# Defining plotting function\n",
    "def cons_plot(r, delta, alpha, e1, e2):\n",
    "    \"\"\"This function will create a graph of the intertemporal utility and the budget constraint\"\"\"\n",
    "    c1 = np.linspace(0.1,cmax,num=100)\n",
    "    c1e, c2e, uebar = solve_opt(r, alpha, delta, e1, e2)\n",
    "    idfc = indif_curve(c1, uebar, alpha, delta)\n",
    "    budg = bud_cons(c1,  r, e1, e2)\n",
    "    \n",
    "    fig, ax = plt.subplots(figsize=(8,8))\n",
    "    ax.plot(c1, budg, lw=2.5)\n",
    "    ax.plot(c1, idfc, lw=2.5)\n",
    "    ax.vlines(c1e,0,c2e, linestyles=\"dashed\")\n",
    "    ax.hlines(c2e,0,c1e, linestyles=\"dashed\")\n",
    "    ax.plot(c1e,c2e,'ob')\n",
    "    ax.vlines(e1,0,e2, linestyles=\"dashed\")\n",
    "    ax.hlines(e2,0,e1, linestyles=\"dashed\")\n",
    "    ax.plot(e1,e2,'ob')\n",
    "    ax.text(e1-7,e2-6,r'$e^*$',fontsize=16)\n",
    "    ax.set_xlim(0, cmax)\n",
    "    ax.set_ylim(0, cmax)\n",
    "    ax.set_xlabel(r'$c_1$', fontsize=16)\n",
    "    ax.set_ylabel('$c_2$', fontsize=16)\n",
    "    ax.spines['right'].set_visible(False)\n",
    "    ax.spines['top'].set_visible(False)\n",
    "    ax.fill_between(c1, bud_cons(c1, r, e1, e2), alpha = 0.2)\n",
    "    ax.grid()\n",
    "    plt.show()"
   ]
  },
  {
   "cell_type": "markdown",
   "metadata": {},
   "source": [
    "## 4. Borrowing and saving\n",
    "We will now use the functions that we have defined until now, to visualise two cases: Borrowing and saving. We will specify each case and then plot each case, in order to visualise.\n",
    "### 4.1 Saving\n",
    "If the consumer saves in period 1, we have the case where:   $s_1^* = e_1 - c_1^* >0$.\n",
    "\n",
    "If we let $e_1=80$ and $c=50$, whilst assuming that the interest rate is zero and the rate of time prefference, $\\delta=0$, thus ensuring that the consumer is indiferent between consuming in period 1 and period 2. In such case, consumption, endowment and savings is given as:"
   ]
  },
  {
   "cell_type": "code",
   "execution_count": 5,
   "metadata": {},
   "outputs": [],
   "source": [
    "# Define function that returns allocation as a pandas frame\n",
    "def allocation():\n",
    "    c1e, c2e, uebar = solve_opt(r, alpha, delta, e1, e2)\n",
    "    \n",
    "    #Create dataframe\n",
    "    lst = {\"Consumption\": [c1e,c2e],\n",
    "           \"Endowment\": [e1,e2],\n",
    "           \"Saving\": [e1-c1e,0]}\n",
    "    \n",
    "    df = pd.DataFrame(lst,columns= [\"Consumption\", \"Endowment\", \"Saving\"])\n",
    "    df.index = [\"Period 1\", \"Period2\"]\n",
    "    \n",
    "    return df"
   ]
  },
  {
   "cell_type": "code",
   "execution_count": 6,
   "metadata": {},
   "outputs": [
    {
     "data": {
      "text/html": [
       "<div>\n",
       "<style scoped>\n",
       "    .dataframe tbody tr th:only-of-type {\n",
       "        vertical-align: middle;\n",
       "    }\n",
       "\n",
       "    .dataframe tbody tr th {\n",
       "        vertical-align: top;\n",
       "    }\n",
       "\n",
       "    .dataframe thead th {\n",
       "        text-align: right;\n",
       "    }\n",
       "</style>\n",
       "<table border=\"1\" class=\"dataframe\">\n",
       "  <thead>\n",
       "    <tr style=\"text-align: right;\">\n",
       "      <th></th>\n",
       "      <th>Consumption</th>\n",
       "      <th>Endowment</th>\n",
       "      <th>Saving</th>\n",
       "    </tr>\n",
       "  </thead>\n",
       "  <tbody>\n",
       "    <tr>\n",
       "      <th>Period 1</th>\n",
       "      <td>50.0</td>\n",
       "      <td>80</td>\n",
       "      <td>30.0</td>\n",
       "    </tr>\n",
       "    <tr>\n",
       "      <th>Period2</th>\n",
       "      <td>50.0</td>\n",
       "      <td>20</td>\n",
       "      <td>0.0</td>\n",
       "    </tr>\n",
       "  </tbody>\n",
       "</table>\n",
       "</div>"
      ],
      "text/plain": [
       "          Consumption  Endowment  Saving\n",
       "Period 1         50.0         80    30.0\n",
       "Period2          50.0         20     0.0"
      ]
     },
     "execution_count": 6,
     "metadata": {},
     "output_type": "execute_result"
    }
   ],
   "source": [
    "# Allocation with savings\n",
    "allocation()"
   ]
  },
  {
   "cell_type": "markdown",
   "metadata": {},
   "source": [
    "This can be visualised as follows:"
   ]
  },
  {
   "cell_type": "code",
   "execution_count": 7,
   "metadata": {},
   "outputs": [
    {
     "data": {
      "image/png": "[encoded data removed]",
      "text/plain": [
       "<Figure size 576x576 with 1 Axes>"
      ]
     },
     "metadata": {
      "needs_background": "light"
     },
     "output_type": "display_data"
    }
   ],
   "source": [
    "cons_plot(r, delta, alpha, e1, e2)"
   ]
  },
  {
   "cell_type": "markdown",
   "metadata": {},
   "source": [
    "### 4.1 Borrowing\n",
    "If the consumer borrows in period 1, we have the case where:   $s_1^* = e_1 - c_1^* <0$.\n",
    "\n",
    "If we let $e_1=50$ and $c=80$, whilse again assuming $r=0$ and $\\delta=0$, then consumption, endowment and savings is given as:"
   ]
  },
  {
   "cell_type": "code",
   "execution_count": 8,
   "metadata": {},
   "outputs": [
    {
     "data": {
      "text/html": [
       "<div>\n",
       "<style scoped>\n",
       "    .dataframe tbody tr th:only-of-type {\n",
       "        vertical-align: middle;\n",
       "    }\n",
       "\n",
       "    .dataframe tbody tr th {\n",
       "        vertical-align: top;\n",
       "    }\n",
       "\n",
       "    .dataframe thead th {\n",
       "        text-align: right;\n",
       "    }\n",
       "</style>\n",
       "<table border=\"1\" class=\"dataframe\">\n",
       "  <thead>\n",
       "    <tr style=\"text-align: right;\">\n",
       "      <th></th>\n",
       "      <th>Consumption</th>\n",
       "      <th>Endowment</th>\n",
       "      <th>Saving</th>\n",
       "    </tr>\n",
       "  </thead>\n",
       "  <tbody>\n",
       "    <tr>\n",
       "      <th>Period 1</th>\n",
       "      <td>50.0</td>\n",
       "      <td>20</td>\n",
       "      <td>-30.0</td>\n",
       "    </tr>\n",
       "    <tr>\n",
       "      <th>Period2</th>\n",
       "      <td>50.0</td>\n",
       "      <td>80</td>\n",
       "      <td>0.0</td>\n",
       "    </tr>\n",
       "  </tbody>\n",
       "</table>\n",
       "</div>"
      ],
      "text/plain": [
       "          Consumption  Endowment  Saving\n",
       "Period 1         50.0         20   -30.0\n",
       "Period2          50.0         80     0.0"
      ]
     },
     "execution_count": 8,
     "metadata": {},
     "output_type": "execute_result"
    }
   ],
   "source": [
    "e1,e2 = 20,80\n",
    "# Allocation with borrowing\n",
    "allocation()"
   ]
  },
  {
   "cell_type": "code",
   "execution_count": 9,
   "metadata": {},
   "outputs": [
    {
     "data": {
      "image/png": "[encoded data removed]",
      "text/plain": [
       "<Figure size 576x576 with 1 Axes>"
      ]
     },
     "metadata": {
      "needs_background": "light"
     },
     "output_type": "display_data"
    }
   ],
   "source": [
    "cons_plot(r, delta, alpha, e1, e2)"
   ]
  },
  {
   "cell_type": "markdown",
   "metadata": {},
   "source": [
    "## 5. Conclusion: The effect of interest rate and time-preference on consumption\n",
    "We will now turn our attention on how consumption allocation and utility is affected by $r$ and $\\rho$.\n",
    "\n",
    "From the expression: $c_2^* = \\left [\\delta (1+r) \\right]^\\frac{1}{\\alpha}c_1^* $,  we get that an increase in $\\rho$, causes a decrease in $\\delta$. A decrease in $\\delta$, will then cause a decrease in $c_2^*$, and conversely an increase in $c_1^*$. $\\rho$ thus acts as a discount factor on utility, meaning an increse in rho causes consumer preference to change, such that the value consumption now, more than future consumption.\n",
    "\n",
    "The interest rate, $r$, then has the opposite effect. An increase in $r$, will cause the consumer to save more, as this will increase $c_2$, due to the interest that will be received on savings. In other words, consumption in period one, becomes more expensive compared to consumption in period 2. This affects the budget constraint.\n",
    "\n",
    "This means that the decision to save or borrow, depends on the parameters $r$ anf $\\rho$. The intuition behind this is simple, if $\\rho < r$, then the marginal benefit of consuming now, is less than the marginal benefit of saving for future consumption, thud the consumer will sacrifice consumption the first period, in order to consume more in second period and vice versa. We can summarize this as follows:\n",
    "* If $\\rho < r \\Rightarrow u'(c_1) > u'(c_2)$ in other words, $c_1 < c_2$\n",
    "* If $\\rho > r \\Rightarrow u'(c_1) < u'(c_2)$ in other words, $c_1 > c_2$\n",
    "\n",
    "The ineractive plot below, provides as a usefull tool to understanding this. The plot can show how changes in $r$ and $delta$ respectively, affects utillity and the budget constraint. Also, it shows that when $\\rho < r$ then $c_1 < c_2$ and vice versa."
   ]
  },
  {
   "cell_type": "code",
   "execution_count": 7,
   "metadata": {},
   "outputs": [
    {
     "data": {
      "application/vnd.jupyter.widget-view+json": {
       "model_id": "bc6f2f2cb6934808925040ae0e0ba954",
       "version_major": 2,
       "version_minor": 0
      },
      "text/plain": [
       "interactive(children=(FloatSlider(value=0.0, description='r', max=1.0), FloatSlider(value=0.7, description='de…"
      ]
     },
     "metadata": {},
     "output_type": "display_data"
    }
   ],
   "source": [
    "interact(cons_plot, r=(rmin,rmax,0.1), alpha=fixed(alpha), delta=(0.5,1,0.1), e1=(10,100,1), e2=(10,100,1));"
   ]
  },
  {
   "cell_type": "code",
   "execution_count": null,
   "metadata": {},
   "outputs": [],
   "source": []
  }
 ],
 "metadata": {
  "kernelspec": {
   "display_name": "Python 3",
   "language": "python",
   "name": "python3"
  },
  "language_info": {
   "codemirror_mode": {
    "name": "ipython",
    "version": 3
   },
   "file_extension": ".py",
   "mimetype": "text/x-python",
   "name": "python",
   "nbconvert_exporter": "python",
   "pygments_lexer": "ipython3",
   "version": "3.7.1"
  }
 },
 "nbformat": 4,
 "nbformat_minor": 2
}
