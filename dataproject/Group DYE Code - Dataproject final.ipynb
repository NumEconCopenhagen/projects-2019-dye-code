{
 "cells": [
  {
   "cell_type": "markdown",
   "metadata": {},
   "source": [
    "# Data Project\n",
    "## 1. Data Collection\n",
    "### 1.1 Importing required packages\n",
    "We start off by importing the packages, that we will be using in our project."
   ]
  },
  {
   "cell_type": "code",
   "execution_count": 1,
   "metadata": {},
   "outputs": [],
   "source": [
    "# Import Packages\n",
    "import numpy as np\n",
    "import pandas_datareader\n",
    "import datetime\n",
    "import pydst\n",
    "import pandas as pd\n",
    "import matplotlib.pyplot as plt\n",
    "from ipywidgets import interactive, fixed, IntRangeSlider, Dropdown, IntRangeSlider, HBox, Label\n",
    "import seaborn as sns"
   ]
  },
  {
   "cell_type": "markdown",
   "metadata": {},
   "source": [
    "### 1.2 Importing Data\n",
    "The data required for this analysis is obtained from *Danmark Statistik*.\n",
    "\n",
    "We will be using the **NAN1** dataset from Danmarks Statistik, which contains yearly keyfigures for the danish economy from 1966-2018."
   ]
  },
  {
   "cell_type": "code",
   "execution_count": 2,
   "metadata": {},
   "outputs": [
    {
     "data": {
      "text/plain": [
       "[{'id': 'B1GQK', 'text': 'B.1*g Bruttonationalprodukt, BNP'},\n",
       " {'id': 'P7K', 'text': 'P.7 Import af varer og tjenester'},\n",
       " {'id': 'P71K', 'text': 'P.71 Import af varer'},\n",
       " {'id': 'P72K', 'text': 'P.72 Import af tjenester'},\n",
       " {'id': 'TFSPR', 'text': 'Forsyning i alt'}]"
      ]
     },
     "execution_count": 2,
     "metadata": {},
     "output_type": "execute_result"
    }
   ],
   "source": [
    "# Inspect variables\n",
    "Dst = pydst.Dst(lang=\"da\")\n",
    "Dst.get_variables(table_id=\"NAN1\")[\"values\"][0][:5]"
   ]
  },
  {
   "cell_type": "markdown",
   "metadata": {},
   "source": [
    "By using the information obtaoined from `Dst.get_variables(table_id=\"NAN1\")[\"values\"][0][:20]` we are able to import the variables of interest.\n",
    "\n",
    "Each imported variable from NAN1 is assigned a variable that we can call upon later in our code. We import the full time range and the values are given in 2010-prices"
   ]
  },
  {
   "cell_type": "code",
   "execution_count": 3,
   "metadata": {},
   "outputs": [],
   "source": [
    "#Importing desired variables from NAN1\n",
    "gdp = Dst.get_data(table_id = \"NAN1\", variables = {\"TRANSAKT\":[\"B1GQK\"], \"PRISENHED\":[\"LAN_M\"], \"Tid\":[\"*\"]})\n",
    "priv_cons = Dst.get_data(table_id = \"NAN1\", variables = {\"TRANSAKT\":[\"P31S1MD\"], \"PRISENHED\":[\"LAN_M\"], \"Tid\":[\"*\"]})\n",
    "publ_cons = Dst.get_data(table_id = \"NAN1\", variables = {\"TRANSAKT\":[\"P3S13D\"], \"PRISENHED\":[\"LAN_M\"], \"Tid\":[\"*\"]})\n",
    "inv = Dst.get_data(table_id = \"NAN1\", variables = {\"TRANSAKT\":[\"P51GD\"], \"PRISENHED\":[\"LAN_M\"], \"Tid\":[\"*\"]})\n",
    "exp = Dst.get_data(table_id = \"NAN1\", variables = {\"TRANSAKT\":[\"P6D\"], \"PRISENHED\":[\"LAN_M\"], \"Tid\":[\"*\"]})\n",
    "imp = Dst.get_data(table_id = \"NAN1\", variables = {\"TRANSAKT\":[\"P7K\"], \"PRISENHED\":[\"LAN_M\"], \"Tid\":[\"*\"]})"
   ]
  },
  {
   "cell_type": "markdown",
   "metadata": {},
   "source": [
    "### 1.3 Cleaning and preparing data\n",
    "We will now create lists containing our variables from previous section. These will be used later, in our loops."
   ]
  },
  {
   "cell_type": "code",
   "execution_count": 4,
   "metadata": {},
   "outputs": [],
   "source": [
    "variable_list = (\"B1GQK\", \"P31S1MD\", \"P3S13D\", \"P51GD\", \"P6D\", \"P7K\")\n",
    "var_list = (gdp, priv_cons, publ_cons, inv, exp, imp)\n",
    "var_list_string = (\"gdp\", \"priv_cons\", \"publ_cons\", \"inv\", \"exp\", \"imp\")\n",
    "\n",
    "for i in var_list:\n",
    "        \"\"\"The loop below drops the unwanted columns from the var_list variables for the purpose of cleaning the dataset\n",
    "        \"\"\"\n",
    "        i.drop([\"TRANSAKT\", \"PRISENHED\"], axis = 1, inplace = True)\n",
    "    \n",
    "for i in var_list:\n",
    "        \"\"\"We can now index our data on time, this will ensure that it is treated as time-series.\n",
    "        \"\"\"\n",
    "        i.index = i[\"TID\"]"
   ]
  },
  {
   "cell_type": "markdown",
   "metadata": {},
   "source": [
    "Now, when inspecting our data, we observe that the column names are the same for each variables."
   ]
  },
  {
   "cell_type": "code",
   "execution_count": 5,
   "metadata": {},
   "outputs": [
    {
     "name": "stdout",
     "output_type": "stream",
     "text": [
      "       TID INDHOLD\n",
      "TID               \n",
      "1991  1991  1306,6\n",
      "1992  1992  1332,2\n",
      "2018  2018  2050,5\n",
      "1993  1993  1332,3\n",
      "1994  1994  1403,3\n",
      "       TID INDHOLD\n",
      "TID               \n",
      "1990  1990   221,5\n",
      "1991  1991   216,3\n",
      "2018  2018   451,4\n",
      "1992  1992   215,2\n",
      "1993  1993   209,5\n"
     ]
    }
   ],
   "source": [
    "print(gdp.head()); print(inv.head())"
   ]
  },
  {
   "cell_type": "markdown",
   "metadata": {},
   "source": [
    "We can fix the above issue by renaming the columns for our variables. This is done by using the `.rename()` on the Dataframe. It takes the the original column name as input and transform it to desired output"
   ]
  },
  {
   "cell_type": "code",
   "execution_count": 6,
   "metadata": {},
   "outputs": [
    {
     "data": {
      "text/plain": [
       "'Dataframe.rename(colums = {\"original name\":\"new name\"})\\n'"
      ]
     },
     "execution_count": 6,
     "metadata": {},
     "output_type": "execute_result"
    }
   ],
   "source": [
    "# Rename variables\n",
    "\n",
    "gdp = gdp.rename(columns = {\"TID\":\"year\", \"INDHOLD\":\"gdp\"})\n",
    "priv_cons = priv_cons.rename(columns = {\"TID\":\"year\", \"INDHOLD\":\"priv_cons\"})\n",
    "publ_cons = publ_cons.rename(columns = {\"TID\":\"year\", \"INDHOLD\":\"publ_cons\"})\n",
    "inv = inv.rename(columns = {\"TID\":\"year\", \"INDHOLD\":\"inv\"})\n",
    "exp = exp.rename(columns = {\"TID\":\"year\", \"INDHOLD\":\"exp\"})\n",
    "imp = imp.rename(columns = {\"TID\":\"year\", \"INDHOLD\":\"imp\"})\n",
    "\"\"\"Dataframe.rename(colums = {\"original name\":\"new name\"})\n",
    "\"\"\""
   ]
  },
  {
   "cell_type": "markdown",
   "metadata": {},
   "source": [
    "## 2. Creating a single dataframe\n",
    "We will now construct a single dataframe, indexed on *time*, containing all necessary variables to be used in our analysis.\n",
    "\n",
    "Using the `pd.DataFrame()` function to create an empty pandas dataframe, containing only a time index. This will make it easier to merge all sub-dataframes into a single dataframe."
   ]
  },
  {
   "cell_type": "code",
   "execution_count": 7,
   "metadata": {},
   "outputs": [],
   "source": [
    "# Create empty dataframe\n",
    "data = pd.DataFrame(index=range(1966,2019), columns = [\"year\"])\n",
    "\n",
    "# Specify index\n",
    "data[\"year\"] = range(1966, 2019)"
   ]
  },
  {
   "cell_type": "markdown",
   "metadata": {},
   "source": [
    "We use the `pandas.merge()` function to merge every subset of our data into a single dataframe.\n",
    "\n",
    "The function merges two dataframes together. It takes the names of the two dataframes as inputs, as well as a specification of how they should be merged i.e. \"inner\" in our case and on what reference column i.e. \"year\" in our case\n",
    "\n",
    "As we can only merge two dataframes at a time we do multiple partial\n",
    "merges to combine all our sub-dataframes into a single one"
   ]
  },
  {
   "cell_type": "code",
   "execution_count": 8,
   "metadata": {},
   "outputs": [
    {
     "data": {
      "text/html": [
       "<div>\n",
       "<style scoped>\n",
       "    .dataframe tbody tr th:only-of-type {\n",
       "        vertical-align: middle;\n",
       "    }\n",
       "\n",
       "    .dataframe tbody tr th {\n",
       "        vertical-align: top;\n",
       "    }\n",
       "\n",
       "    .dataframe thead th {\n",
       "        text-align: right;\n",
       "    }\n",
       "</style>\n",
       "<table border=\"1\" class=\"dataframe\">\n",
       "  <thead>\n",
       "    <tr style=\"text-align: right;\">\n",
       "      <th></th>\n",
       "      <th>year</th>\n",
       "      <th>gdp</th>\n",
       "      <th>priv_cons</th>\n",
       "      <th>publ_cons</th>\n",
       "      <th>inv</th>\n",
       "      <th>exp</th>\n",
       "      <th>imp</th>\n",
       "    </tr>\n",
       "  </thead>\n",
       "  <tbody>\n",
       "    <tr>\n",
       "      <th>0</th>\n",
       "      <td>1966</td>\n",
       "      <td>702,4</td>\n",
       "      <td>372,8</td>\n",
       "      <td>171,3</td>\n",
       "      <td>114,7</td>\n",
       "      <td>123,6</td>\n",
       "      <td>112,2</td>\n",
       "    </tr>\n",
       "    <tr>\n",
       "      <th>1</th>\n",
       "      <td>1967</td>\n",
       "      <td>741,2</td>\n",
       "      <td>397,9</td>\n",
       "      <td>185,0</td>\n",
       "      <td>124,5</td>\n",
       "      <td>128,2</td>\n",
       "      <td>120,0</td>\n",
       "    </tr>\n",
       "    <tr>\n",
       "      <th>2</th>\n",
       "      <td>1968</td>\n",
       "      <td>782,4</td>\n",
       "      <td>412,2</td>\n",
       "      <td>195,7</td>\n",
       "      <td>130,6</td>\n",
       "      <td>140,7</td>\n",
       "      <td>127,7</td>\n",
       "    </tr>\n",
       "    <tr>\n",
       "      <th>3</th>\n",
       "      <td>1969</td>\n",
       "      <td>833,3</td>\n",
       "      <td>435,8</td>\n",
       "      <td>209,4</td>\n",
       "      <td>147,0</td>\n",
       "      <td>149,2</td>\n",
       "      <td>144,0</td>\n",
       "    </tr>\n",
       "    <tr>\n",
       "      <th>4</th>\n",
       "      <td>1970</td>\n",
       "      <td>846,6</td>\n",
       "      <td>446,6</td>\n",
       "      <td>222,3</td>\n",
       "      <td>151,3</td>\n",
       "      <td>154,9</td>\n",
       "      <td>157,2</td>\n",
       "    </tr>\n",
       "  </tbody>\n",
       "</table>\n",
       "</div>"
      ],
      "text/plain": [
       "   year    gdp priv_cons publ_cons    inv    exp    imp\n",
       "0  1966  702,4     372,8     171,3  114,7  123,6  112,2\n",
       "1  1967  741,2     397,9     185,0  124,5  128,2  120,0\n",
       "2  1968  782,4     412,2     195,7  130,6  140,7  127,7\n",
       "3  1969  833,3     435,8     209,4  147,0  149,2  144,0\n",
       "4  1970  846,6     446,6     222,3  151,3  154,9  157,2"
      ]
     },
     "execution_count": 8,
     "metadata": {},
     "output_type": "execute_result"
    }
   ],
   "source": [
    "# Merge Dataset\n",
    "\n",
    "data = pd.merge(data, gdp, how = \"inner\", on = [\"year\"])\n",
    "\"\"\" how explains the type of merge, while on specifies the column we reference to\n",
    "\"\"\"\n",
    "\n",
    "data = pd.merge(data, priv_cons, how = \"inner\", on = [\"year\"])\n",
    "data = pd.merge(data, publ_cons, how = \"inner\", on = [\"year\"])\n",
    "data = pd.merge(data, inv, how = \"inner\", on = [\"year\"])\n",
    "data = pd.merge(data, exp, how = \"inner\", on = [\"year\"])\n",
    "data = pd.merge(data, imp, how = \"inner\", on = [\"year\"])\n",
    "\n",
    "# View first five rows of dataframe\n",
    "data.head()"
   ]
  },
  {
   "cell_type": "markdown",
   "metadata": {},
   "source": [
    "### 2.1 Preparing dataframe for analysis\n",
    "We will now be cleaning our data, in order to prepare it for analysis.\n",
    "\n",
    "We start off by indexing our final dataframe on \"*year*\" and deleting the `year` column, as this is no longer of use:"
   ]
  },
  {
   "cell_type": "code",
   "execution_count": 9,
   "metadata": {},
   "outputs": [
    {
     "data": {
      "text/html": [
       "<div>\n",
       "<style scoped>\n",
       "    .dataframe tbody tr th:only-of-type {\n",
       "        vertical-align: middle;\n",
       "    }\n",
       "\n",
       "    .dataframe tbody tr th {\n",
       "        vertical-align: top;\n",
       "    }\n",
       "\n",
       "    .dataframe thead th {\n",
       "        text-align: right;\n",
       "    }\n",
       "</style>\n",
       "<table border=\"1\" class=\"dataframe\">\n",
       "  <thead>\n",
       "    <tr style=\"text-align: right;\">\n",
       "      <th></th>\n",
       "      <th>gdp</th>\n",
       "      <th>priv_cons</th>\n",
       "      <th>publ_cons</th>\n",
       "      <th>inv</th>\n",
       "      <th>exp</th>\n",
       "      <th>imp</th>\n",
       "    </tr>\n",
       "    <tr>\n",
       "      <th>year</th>\n",
       "      <th></th>\n",
       "      <th></th>\n",
       "      <th></th>\n",
       "      <th></th>\n",
       "      <th></th>\n",
       "      <th></th>\n",
       "    </tr>\n",
       "  </thead>\n",
       "  <tbody>\n",
       "    <tr>\n",
       "      <th>1966</th>\n",
       "      <td>702,4</td>\n",
       "      <td>372,8</td>\n",
       "      <td>171,3</td>\n",
       "      <td>114,7</td>\n",
       "      <td>123,6</td>\n",
       "      <td>112,2</td>\n",
       "    </tr>\n",
       "    <tr>\n",
       "      <th>1967</th>\n",
       "      <td>741,2</td>\n",
       "      <td>397,9</td>\n",
       "      <td>185,0</td>\n",
       "      <td>124,5</td>\n",
       "      <td>128,2</td>\n",
       "      <td>120,0</td>\n",
       "    </tr>\n",
       "    <tr>\n",
       "      <th>1968</th>\n",
       "      <td>782,4</td>\n",
       "      <td>412,2</td>\n",
       "      <td>195,7</td>\n",
       "      <td>130,6</td>\n",
       "      <td>140,7</td>\n",
       "      <td>127,7</td>\n",
       "    </tr>\n",
       "    <tr>\n",
       "      <th>1969</th>\n",
       "      <td>833,3</td>\n",
       "      <td>435,8</td>\n",
       "      <td>209,4</td>\n",
       "      <td>147,0</td>\n",
       "      <td>149,2</td>\n",
       "      <td>144,0</td>\n",
       "    </tr>\n",
       "    <tr>\n",
       "      <th>1970</th>\n",
       "      <td>846,6</td>\n",
       "      <td>446,6</td>\n",
       "      <td>222,3</td>\n",
       "      <td>151,3</td>\n",
       "      <td>154,9</td>\n",
       "      <td>157,2</td>\n",
       "    </tr>\n",
       "  </tbody>\n",
       "</table>\n",
       "</div>"
      ],
      "text/plain": [
       "        gdp priv_cons publ_cons    inv    exp    imp\n",
       "year                                                \n",
       "1966  702,4     372,8     171,3  114,7  123,6  112,2\n",
       "1967  741,2     397,9     185,0  124,5  128,2  120,0\n",
       "1968  782,4     412,2     195,7  130,6  140,7  127,7\n",
       "1969  833,3     435,8     209,4  147,0  149,2  144,0\n",
       "1970  846,6     446,6     222,3  151,3  154,9  157,2"
      ]
     },
     "execution_count": 9,
     "metadata": {},
     "output_type": "execute_result"
    }
   ],
   "source": [
    "# Indexing on time\n",
    "data.index = data[\"year\"]\n",
    "\n",
    "# Delete \"year\" column\n",
    "del data[\"year\"]\n",
    "\n",
    "data.head()"
   ]
  },
  {
   "cell_type": "markdown",
   "metadata": {},
   "source": [
    "As we are only interested in values from 1980 to 2018, we will be removing the rows up to the year 1980.\n",
    "\n",
    "This is done with the `pandas.loc()` function and stored on the existing dataset as below:"
   ]
  },
  {
   "cell_type": "code",
   "execution_count": 10,
   "metadata": {},
   "outputs": [
    {
     "data": {
      "text/html": [
       "<div>\n",
       "<style scoped>\n",
       "    .dataframe tbody tr th:only-of-type {\n",
       "        vertical-align: middle;\n",
       "    }\n",
       "\n",
       "    .dataframe tbody tr th {\n",
       "        vertical-align: top;\n",
       "    }\n",
       "\n",
       "    .dataframe thead th {\n",
       "        text-align: right;\n",
       "    }\n",
       "</style>\n",
       "<table border=\"1\" class=\"dataframe\">\n",
       "  <thead>\n",
       "    <tr style=\"text-align: right;\">\n",
       "      <th></th>\n",
       "      <th>gdp</th>\n",
       "      <th>priv_cons</th>\n",
       "      <th>publ_cons</th>\n",
       "      <th>inv</th>\n",
       "      <th>exp</th>\n",
       "      <th>imp</th>\n",
       "    </tr>\n",
       "    <tr>\n",
       "      <th>year</th>\n",
       "      <th></th>\n",
       "      <th></th>\n",
       "      <th></th>\n",
       "      <th></th>\n",
       "      <th></th>\n",
       "      <th></th>\n",
       "    </tr>\n",
       "  </thead>\n",
       "  <tbody>\n",
       "    <tr>\n",
       "      <th>1980</th>\n",
       "      <td>1048,1</td>\n",
       "      <td>538,8</td>\n",
       "      <td>310,2</td>\n",
       "      <td>159,8</td>\n",
       "      <td>245,3</td>\n",
       "      <td>211,9</td>\n",
       "    </tr>\n",
       "    <tr>\n",
       "      <th>1981</th>\n",
       "      <td>1041,2</td>\n",
       "      <td>532,0</td>\n",
       "      <td>318,3</td>\n",
       "      <td>133,1</td>\n",
       "      <td>266,5</td>\n",
       "      <td>213,1</td>\n",
       "    </tr>\n",
       "    <tr>\n",
       "      <th>1982</th>\n",
       "      <td>1079,5</td>\n",
       "      <td>539,5</td>\n",
       "      <td>328,8</td>\n",
       "      <td>144,1</td>\n",
       "      <td>275,0</td>\n",
       "      <td>219,8</td>\n",
       "    </tr>\n",
       "    <tr>\n",
       "      <th>1983</th>\n",
       "      <td>1107,5</td>\n",
       "      <td>549,9</td>\n",
       "      <td>328,6</td>\n",
       "      <td>150,5</td>\n",
       "      <td>287,6</td>\n",
       "      <td>224,1</td>\n",
       "    </tr>\n",
       "    <tr>\n",
       "      <th>1984</th>\n",
       "      <td>1153,7</td>\n",
       "      <td>569,2</td>\n",
       "      <td>323,1</td>\n",
       "      <td>166,0</td>\n",
       "      <td>297,1</td>\n",
       "      <td>236,1</td>\n",
       "    </tr>\n",
       "  </tbody>\n",
       "</table>\n",
       "</div>"
      ],
      "text/plain": [
       "         gdp priv_cons publ_cons    inv    exp    imp\n",
       "year                                                 \n",
       "1980  1048,1     538,8     310,2  159,8  245,3  211,9\n",
       "1981  1041,2     532,0     318,3  133,1  266,5  213,1\n",
       "1982  1079,5     539,5     328,8  144,1  275,0  219,8\n",
       "1983  1107,5     549,9     328,6  150,5  287,6  224,1\n",
       "1984  1153,7     569,2     323,1  166,0  297,1  236,1"
      ]
     },
     "execution_count": 10,
     "metadata": {},
     "output_type": "execute_result"
    }
   ],
   "source": [
    "data = data.loc[1980 :]\n",
    "\n",
    "data.head()"
   ]
  },
  {
   "cell_type": "markdown",
   "metadata": {},
   "source": [
    "We will now convert the comma-separator from \",\" to \".\", as python does not use \",\" as comma-separator:"
   ]
  },
  {
   "cell_type": "code",
   "execution_count": 11,
   "metadata": {},
   "outputs": [
    {
     "data": {
      "text/html": [
       "<div>\n",
       "<style scoped>\n",
       "    .dataframe tbody tr th:only-of-type {\n",
       "        vertical-align: middle;\n",
       "    }\n",
       "\n",
       "    .dataframe tbody tr th {\n",
       "        vertical-align: top;\n",
       "    }\n",
       "\n",
       "    .dataframe thead th {\n",
       "        text-align: right;\n",
       "    }\n",
       "</style>\n",
       "<table border=\"1\" class=\"dataframe\">\n",
       "  <thead>\n",
       "    <tr style=\"text-align: right;\">\n",
       "      <th></th>\n",
       "      <th>gdp</th>\n",
       "      <th>priv_cons</th>\n",
       "      <th>publ_cons</th>\n",
       "      <th>inv</th>\n",
       "      <th>exp</th>\n",
       "      <th>imp</th>\n",
       "    </tr>\n",
       "    <tr>\n",
       "      <th>year</th>\n",
       "      <th></th>\n",
       "      <th></th>\n",
       "      <th></th>\n",
       "      <th></th>\n",
       "      <th></th>\n",
       "      <th></th>\n",
       "    </tr>\n",
       "  </thead>\n",
       "  <tbody>\n",
       "    <tr>\n",
       "      <th>1980</th>\n",
       "      <td>1048.1</td>\n",
       "      <td>538.8</td>\n",
       "      <td>310.2</td>\n",
       "      <td>159.8</td>\n",
       "      <td>245.3</td>\n",
       "      <td>211.9</td>\n",
       "    </tr>\n",
       "    <tr>\n",
       "      <th>1981</th>\n",
       "      <td>1041.2</td>\n",
       "      <td>532.0</td>\n",
       "      <td>318.3</td>\n",
       "      <td>133.1</td>\n",
       "      <td>266.5</td>\n",
       "      <td>213.1</td>\n",
       "    </tr>\n",
       "    <tr>\n",
       "      <th>1982</th>\n",
       "      <td>1079.5</td>\n",
       "      <td>539.5</td>\n",
       "      <td>328.8</td>\n",
       "      <td>144.1</td>\n",
       "      <td>275.0</td>\n",
       "      <td>219.8</td>\n",
       "    </tr>\n",
       "    <tr>\n",
       "      <th>1983</th>\n",
       "      <td>1107.5</td>\n",
       "      <td>549.9</td>\n",
       "      <td>328.6</td>\n",
       "      <td>150.5</td>\n",
       "      <td>287.6</td>\n",
       "      <td>224.1</td>\n",
       "    </tr>\n",
       "    <tr>\n",
       "      <th>1984</th>\n",
       "      <td>1153.7</td>\n",
       "      <td>569.2</td>\n",
       "      <td>323.1</td>\n",
       "      <td>166.0</td>\n",
       "      <td>297.1</td>\n",
       "      <td>236.1</td>\n",
       "    </tr>\n",
       "  </tbody>\n",
       "</table>\n",
       "</div>"
      ],
      "text/plain": [
       "         gdp  priv_cons  publ_cons    inv    exp    imp\n",
       "year                                                   \n",
       "1980  1048.1      538.8      310.2  159.8  245.3  211.9\n",
       "1981  1041.2      532.0      318.3  133.1  266.5  213.1\n",
       "1982  1079.5      539.5      328.8  144.1  275.0  219.8\n",
       "1983  1107.5      549.9      328.6  150.5  287.6  224.1\n",
       "1984  1153.7      569.2      323.1  166.0  297.1  236.1"
      ]
     },
     "execution_count": 11,
     "metadata": {},
     "output_type": "execute_result"
    }
   ],
   "source": [
    "# Correcting for comma separator and conver to floats\n",
    "\n",
    "for i in var_list_string:\n",
    "        \"\"\" This code is designed in order to change comma-separator\n",
    "        \"\"\"\n",
    "        data[i] = data[i].replace(\",\",\".\", regex=True)\n",
    "        \"\"\" This converts the variables from \"strings\" to \"floats\"\n",
    "        \"\"\"\n",
    "        data[i] = data[i].astype(float)\n",
    "        \n",
    "data.head()"
   ]
  },
  {
   "cell_type": "markdown",
   "metadata": {},
   "source": [
    "### 2.2 Adding additional variables\n",
    "\n",
    "For our analysis, variables as *Import* and *Export*, can just be summarized as *Net exports*, which is defined as:\n",
    "\n",
    "$$Net\\,export=Export-Import$$\n",
    "\n",
    "We will now construct a new variable in our data frame named ```nx``` which captures Gross Net Exports, 2010-chained value (billion kr.)"
   ]
  },
  {
   "cell_type": "code",
   "execution_count": 12,
   "metadata": {},
   "outputs": [],
   "source": [
    "# Create new column named nx, denoting netexports by subtracting export from import\n",
    "data[\"nx\"] = data[\"exp\"] - data[\"imp\"]\n",
    "\n",
    "# We assign the new column to a variable, nx, which will be used in later analysis\n",
    "nx = data[\"nx\"]"
   ]
  },
  {
   "cell_type": "markdown",
   "metadata": {},
   "source": [
    "We will now add the respective percentage change for all variables in ```data```, to our dataset. The percentage changes are usefull when conducting analysis and are calulated as follows:\n",
    "\n",
    "$${pct\\,change\\,in\\,x} = \\frac{x_t-x_{t-1}}{x_{t-1}}*100$$"
   ]
  },
  {
   "cell_type": "code",
   "execution_count": 13,
   "metadata": {},
   "outputs": [
    {
     "data": {
      "text/html": [
       "<div>\n",
       "<style scoped>\n",
       "    .dataframe tbody tr th:only-of-type {\n",
       "        vertical-align: middle;\n",
       "    }\n",
       "\n",
       "    .dataframe tbody tr th {\n",
       "        vertical-align: top;\n",
       "    }\n",
       "\n",
       "    .dataframe thead th {\n",
       "        text-align: right;\n",
       "    }\n",
       "</style>\n",
       "<table border=\"1\" class=\"dataframe\">\n",
       "  <thead>\n",
       "    <tr style=\"text-align: right;\">\n",
       "      <th></th>\n",
       "      <th>gdp</th>\n",
       "      <th>priv_cons</th>\n",
       "      <th>publ_cons</th>\n",
       "      <th>inv</th>\n",
       "      <th>exp</th>\n",
       "      <th>imp</th>\n",
       "      <th>nx</th>\n",
       "      <th>pct. change in gdp</th>\n",
       "      <th>pct. change in priv_cons</th>\n",
       "      <th>pct. change in publ_cons</th>\n",
       "      <th>pct. change in inv</th>\n",
       "      <th>pct. change in exp</th>\n",
       "      <th>pct. change in imp</th>\n",
       "      <th>pct. change in nx</th>\n",
       "    </tr>\n",
       "    <tr>\n",
       "      <th>year</th>\n",
       "      <th></th>\n",
       "      <th></th>\n",
       "      <th></th>\n",
       "      <th></th>\n",
       "      <th></th>\n",
       "      <th></th>\n",
       "      <th></th>\n",
       "      <th></th>\n",
       "      <th></th>\n",
       "      <th></th>\n",
       "      <th></th>\n",
       "      <th></th>\n",
       "      <th></th>\n",
       "      <th></th>\n",
       "    </tr>\n",
       "  </thead>\n",
       "  <tbody>\n",
       "    <tr>\n",
       "      <th>1980</th>\n",
       "      <td>1048.1</td>\n",
       "      <td>538.8</td>\n",
       "      <td>310.2</td>\n",
       "      <td>159.8</td>\n",
       "      <td>245.3</td>\n",
       "      <td>211.9</td>\n",
       "      <td>33.4</td>\n",
       "      <td>NaN</td>\n",
       "      <td>NaN</td>\n",
       "      <td>NaN</td>\n",
       "      <td>NaN</td>\n",
       "      <td>NaN</td>\n",
       "      <td>NaN</td>\n",
       "      <td>NaN</td>\n",
       "    </tr>\n",
       "    <tr>\n",
       "      <th>1981</th>\n",
       "      <td>1041.2</td>\n",
       "      <td>532.0</td>\n",
       "      <td>318.3</td>\n",
       "      <td>133.1</td>\n",
       "      <td>266.5</td>\n",
       "      <td>213.1</td>\n",
       "      <td>53.4</td>\n",
       "      <td>-0.7</td>\n",
       "      <td>-1.3</td>\n",
       "      <td>2.6</td>\n",
       "      <td>-16.7</td>\n",
       "      <td>8.6</td>\n",
       "      <td>0.6</td>\n",
       "      <td>59.9</td>\n",
       "    </tr>\n",
       "    <tr>\n",
       "      <th>1982</th>\n",
       "      <td>1079.5</td>\n",
       "      <td>539.5</td>\n",
       "      <td>328.8</td>\n",
       "      <td>144.1</td>\n",
       "      <td>275.0</td>\n",
       "      <td>219.8</td>\n",
       "      <td>55.2</td>\n",
       "      <td>3.7</td>\n",
       "      <td>1.4</td>\n",
       "      <td>3.3</td>\n",
       "      <td>8.3</td>\n",
       "      <td>3.2</td>\n",
       "      <td>3.1</td>\n",
       "      <td>3.4</td>\n",
       "    </tr>\n",
       "    <tr>\n",
       "      <th>1983</th>\n",
       "      <td>1107.5</td>\n",
       "      <td>549.9</td>\n",
       "      <td>328.6</td>\n",
       "      <td>150.5</td>\n",
       "      <td>287.6</td>\n",
       "      <td>224.1</td>\n",
       "      <td>63.5</td>\n",
       "      <td>2.6</td>\n",
       "      <td>1.9</td>\n",
       "      <td>-0.1</td>\n",
       "      <td>4.4</td>\n",
       "      <td>4.6</td>\n",
       "      <td>2.0</td>\n",
       "      <td>15.0</td>\n",
       "    </tr>\n",
       "    <tr>\n",
       "      <th>1984</th>\n",
       "      <td>1153.7</td>\n",
       "      <td>569.2</td>\n",
       "      <td>323.1</td>\n",
       "      <td>166.0</td>\n",
       "      <td>297.1</td>\n",
       "      <td>236.1</td>\n",
       "      <td>61.0</td>\n",
       "      <td>4.2</td>\n",
       "      <td>3.5</td>\n",
       "      <td>-1.7</td>\n",
       "      <td>10.3</td>\n",
       "      <td>3.3</td>\n",
       "      <td>5.4</td>\n",
       "      <td>-3.9</td>\n",
       "    </tr>\n",
       "  </tbody>\n",
       "</table>\n",
       "</div>"
      ],
      "text/plain": [
       "         gdp  priv_cons  publ_cons    inv    exp    imp    nx  \\\n",
       "year                                                            \n",
       "1980  1048.1      538.8      310.2  159.8  245.3  211.9  33.4   \n",
       "1981  1041.2      532.0      318.3  133.1  266.5  213.1  53.4   \n",
       "1982  1079.5      539.5      328.8  144.1  275.0  219.8  55.2   \n",
       "1983  1107.5      549.9      328.6  150.5  287.6  224.1  63.5   \n",
       "1984  1153.7      569.2      323.1  166.0  297.1  236.1  61.0   \n",
       "\n",
       "      pct. change in gdp  pct. change in priv_cons  pct. change in publ_cons  \\\n",
       "year                                                                           \n",
       "1980                 NaN                       NaN                       NaN   \n",
       "1981                -0.7                      -1.3                       2.6   \n",
       "1982                 3.7                       1.4                       3.3   \n",
       "1983                 2.6                       1.9                      -0.1   \n",
       "1984                 4.2                       3.5                      -1.7   \n",
       "\n",
       "      pct. change in inv  pct. change in exp  pct. change in imp  \\\n",
       "year                                                               \n",
       "1980                 NaN                 NaN                 NaN   \n",
       "1981               -16.7                 8.6                 0.6   \n",
       "1982                 8.3                 3.2                 3.1   \n",
       "1983                 4.4                 4.6                 2.0   \n",
       "1984                10.3                 3.3                 5.4   \n",
       "\n",
       "      pct. change in nx  \n",
       "year                     \n",
       "1980                NaN  \n",
       "1981               59.9  \n",
       "1982                3.4  \n",
       "1983               15.0  \n",
       "1984               -3.9  "
      ]
     },
     "execution_count": 13,
     "metadata": {},
     "output_type": "execute_result"
    }
   ],
   "source": [
    "# Update var_list and var_list_string to include \"nx\"\n",
    "var_list = (gdp, priv_cons, publ_cons, inv, exp, imp, nx)\n",
    "var_list_string = (\"gdp\", \"priv_cons\", \"publ_cons\", \"inv\", \"exp\", \"imp\", \"nx\")\n",
    "\n",
    "# Generate percentage change of variables\n",
    "data_pct_change = data.pct_change()\n",
    "data_pct_change = data_pct_change * 100 # in order to obtain percentage values\n",
    "\n",
    "# Rename columns to indicate percentage change\n",
    "for i in var_list_string:\n",
    "        data_pct_change = data_pct_change.rename(columns = {i:\"pct. change in \"+i})\n",
    "\n",
    "# Merge dataset with original dataset\n",
    "data = pd.merge(data, data_pct_change, how = \"inner\", on = [\"year\"])\n",
    "\n",
    "round(data.head(), 1)"
   ]
  },
  {
   "cell_type": "markdown",
   "metadata": {},
   "source": [
    "## 3. Presenting data\n",
    "\n",
    "We will now visually analyse the development of the GDP components, in order to see how these have changed compared to GDP.\n",
    "We start off by comparing the weights of each GDP component from 1980 and 2018 in order to see if anything has changed."
   ]
  },
  {
   "cell_type": "code",
   "execution_count": 14,
   "metadata": {},
   "outputs": [
    {
     "data": {
      "image/png": "[encoded data removed]",
      "text/plain": [
       "<Figure size 432x288 with 2 Axes>"
      ]
     },
     "metadata": {},
     "output_type": "display_data"
    }
   ],
   "source": [
    "# calculations for piechart to compare compomnents in 1980 to 2018\n",
    "sizes_1980 = [data.loc[1980, \"priv_cons\"], data.loc[1980, \"publ_cons\"], data.loc[1980, \"inv\"], data.loc[1980, \"nx\"]]\n",
    "sizes_2018 = [data.loc[2018, \"priv_cons\"], data.loc[2018, \"publ_cons\"], data.loc[2018, \"inv\"], data.loc[2018, \"nx\"]]\n",
    "\n",
    "labels = [\"Private consumption\", \"Goverment spending\", \"Investment\", \"Net exports\"]\n",
    "\n",
    "fig1, ax = plt.subplots(1,2)\n",
    "sns.set_style(\"whitegrid\") #This is for cosmetic purposes\n",
    "\n",
    "# 1980\n",
    "ax[0].pie(sizes_1980, labels = labels, autopct='%1.1f%%',\n",
    "        shadow=True, startangle=90)\n",
    "ax[0].axis('equal')  # Equal aspect ratio ensures that pie is drawn as a circle.\n",
    "ax[0].set_title(\"GDP components 1980\")\n",
    "\n",
    "#2018\n",
    "ax[1].pie(sizes_2018, labels = labels, autopct='%1.1f%%',\n",
    "        shadow=True, startangle=90)\n",
    "ax[1].axis('equal')\n",
    "ax[1].set_title(\"GDP components 2018\")\n",
    "\n",
    "#adjustments\n",
    "plt.subplots_adjust(wspace=1)\n",
    "\n",
    "#add source\n",
    "plt.annotate('Source: Danmarks Statistik - http://www.statistikbanken.dk/NAN1', (0,0), (0,0), fontsize = 7.5, xycoords = 'axes fraction', textcoords = 'offset points', va = 'top')\n",
    "\n",
    "plt.show()"
   ]
  },
  {
   "cell_type": "markdown",
   "metadata": {},
   "source": [
    "We observe that there has not been any significant changes to the components as pct. of GDP. Investments have now increased as pct. of GDP, from 15.3 % in 1980 to 22.2 % in 2018, whilst Net exports have increased from 3.2 % to 5 %. Private consumption, was 51.7 % but is now 47.1 %, whilst goverment spending has fallen from 29.8 % to 25.7 %.\n",
    "\n",
    "As we will see next, this is not due to a lack of change in the respective component, as there has been an overall increase in GDP and all of its components.\n",
    "\n",
    "We will now analyse the change in the respective components and will compare it to the increase in Gross Domestic Product.\n",
    "We define a function, in order to reduce the repetetive task of making new figures for each variable. We will show later what the function does."
   ]
  },
  {
   "cell_type": "code",
   "execution_count": 32,
   "metadata": {},
   "outputs": [],
   "source": [
    "def my_graph(var, year = [1980, 2018]):\n",
    "    \"\"\"\n",
    "    This function takes two variables and creates a plot showing the development of the desired variable thorugh the years.\n",
    "    The function takes the follwoing two variables:\n",
    "    \n",
    "    var:The desired variable that you wish to examine. must be a string.\n",
    "    years: A list containing two numbers, the first defining the start and the second defining the end of the time period that one would like to examine\n",
    "    \"\"\"\n",
    "    \n",
    "    #Slicing dataframe from year 1 and year 2\n",
    "    year1 = year[0]\n",
    "    year2 = year[1]\n",
    "    df = data.loc[year1:year2]\n",
    "    \n",
    "    # Plot\n",
    "    sns.set_style(\"whitegrid\")\n",
    "    g = sns.relplot(x = df.index, y = var, data = df, kind = \"line\")\n",
    "    \n",
    "    #Create dictionary in order to create title\n",
    "    var_list_name = (\"Domestic Product\", \"Private consumption\", \"Goverment expenditure\", \"Investment\", \"Exports\", \"Imports\", \"Net exports\")\n",
    "    var_name = dict(zip(var_list_string, var_list_name))\n",
    "    \n",
    "    #Title\n",
    "    g.fig.suptitle(\"Gross {} from {}-{}\".format(var_name[var], year1, year2), y = 1.03)\n",
    "        \n",
    "    #Labels\n",
    "    g.set(xlabel = \"Years\", ylabel = \"Billion DKK\")\n",
    "    \n",
    "    #Adjustments to x-axis ticks if names are too long\n",
    "    plt.xticks(rotation = 90)\n",
    "    \n",
    "    #make annotation for source\n",
    "    plt.annotate('Source: Danmarks Statistik - http://www.statistikbanken.dk/NAN1', (0,0), (-20,-65), fontsize = 7.5, \n",
    "             xycoords = 'axes fraction', textcoords = 'offset points', va = 'top')\n",
    "    \n",
    "    plt.show()"
   ]
  },
  {
   "cell_type": "markdown",
   "metadata": {},
   "source": [
    "Now we will define widgets, that will be useed for the interactive plot"
   ]
  },
  {
   "cell_type": "code",
   "execution_count": 16,
   "metadata": {},
   "outputs": [],
   "source": [
    "#Define widgets\n",
    "var_list_name = (\"Gross Domestic Product\", \"Private consumption\", \"Goverment expenditure\", \"Investment\", \"Exports\", \"Imports\", \"Net exports\")\n",
    "var_name = dict(zip(var_list_name, var_list_string))\n",
    "\n",
    "#Dropdown widget\n",
    "drop = Dropdown(options=var_name, value=\"gdp\", description='Variable:', disabled=False)\n",
    "\n",
    "#Float widget for time period\n",
    "slider = IntRangeSlider(value=[1980, 2018], min=1980, max=2018, step=5, description='Years:', disabled=False, continuous_update=False, orientation='horizontal', readout=True, readout_format='d',)"
   ]
  },
  {
   "cell_type": "markdown",
   "metadata": {},
   "source": [
    "We will also create a table containing key statistics about the growth of GDP and its key components. This table will containg the percentage change in the components and the average annual growth rate. The statistics are computed below."
   ]
  },
  {
   "cell_type": "code",
   "execution_count": 17,
   "metadata": {},
   "outputs": [
    {
     "data": {
      "text/html": [
       "<div>\n",
       "<style scoped>\n",
       "    .dataframe tbody tr th:only-of-type {\n",
       "        vertical-align: middle;\n",
       "    }\n",
       "\n",
       "    .dataframe tbody tr th {\n",
       "        vertical-align: top;\n",
       "    }\n",
       "\n",
       "    .dataframe thead th {\n",
       "        text-align: right;\n",
       "    }\n",
       "</style>\n",
       "<table border=\"1\" class=\"dataframe\">\n",
       "  <thead>\n",
       "    <tr style=\"text-align: right;\">\n",
       "      <th></th>\n",
       "      <th>Pct. increase</th>\n",
       "      <th>Average pct. increase</th>\n",
       "      <th>1980 (bn DKK)</th>\n",
       "      <th>2018 (bn DKK)</th>\n",
       "    </tr>\n",
       "  </thead>\n",
       "  <tbody>\n",
       "    <tr>\n",
       "      <th>Gross Domestic Product</th>\n",
       "      <td>95.64</td>\n",
       "      <td>1.80</td>\n",
       "      <td>1048.1</td>\n",
       "      <td>2050.5</td>\n",
       "    </tr>\n",
       "    <tr>\n",
       "      <th>Private Consumption</th>\n",
       "      <td>77.95</td>\n",
       "      <td>1.55</td>\n",
       "      <td>538.8</td>\n",
       "      <td>958.8</td>\n",
       "    </tr>\n",
       "    <tr>\n",
       "      <th>Goverment Expenditure</th>\n",
       "      <td>68.41</td>\n",
       "      <td>1.39</td>\n",
       "      <td>310.2</td>\n",
       "      <td>522.4</td>\n",
       "    </tr>\n",
       "    <tr>\n",
       "      <th>Investment</th>\n",
       "      <td>182.48</td>\n",
       "      <td>3.00</td>\n",
       "      <td>159.8</td>\n",
       "      <td>451.4</td>\n",
       "    </tr>\n",
       "    <tr>\n",
       "      <th>Export</th>\n",
       "      <td>375.13</td>\n",
       "      <td>4.26</td>\n",
       "      <td>245.3</td>\n",
       "      <td>1165.5</td>\n",
       "    </tr>\n",
       "    <tr>\n",
       "      <th>Import</th>\n",
       "      <td>402.36</td>\n",
       "      <td>4.45</td>\n",
       "      <td>211.9</td>\n",
       "      <td>1064.5</td>\n",
       "    </tr>\n",
       "    <tr>\n",
       "      <th>Net Export</th>\n",
       "      <td>202.40</td>\n",
       "      <td>4.60</td>\n",
       "      <td>33.4</td>\n",
       "      <td>101.0</td>\n",
       "    </tr>\n",
       "  </tbody>\n",
       "</table>\n",
       "</div>"
      ],
      "text/plain": [
       "                        Pct. increase  Average pct. increase  1980 (bn DKK)  \\\n",
       "Gross Domestic Product          95.64                   1.80         1048.1   \n",
       "Private Consumption             77.95                   1.55          538.8   \n",
       "Goverment Expenditure           68.41                   1.39          310.2   \n",
       "Investment                     182.48                   3.00          159.8   \n",
       "Export                         375.13                   4.26          245.3   \n",
       "Import                         402.36                   4.45          211.9   \n",
       "Net Export                     202.40                   4.60           33.4   \n",
       "\n",
       "                        2018 (bn DKK)  \n",
       "Gross Domestic Product         2050.5  \n",
       "Private Consumption             958.8  \n",
       "Goverment Expenditure           522.4  \n",
       "Investment                      451.4  \n",
       "Export                         1165.5  \n",
       "Import                         1064.5  \n",
       "Net Export                      101.0  "
      ]
     },
     "execution_count": 17,
     "metadata": {},
     "output_type": "execute_result"
    }
   ],
   "source": [
    "#Pct change from 1980 to 2018\n",
    "stats = round((((data.loc[2018]-data.loc[1980])/data.loc[1980])*100), 2)\n",
    "stats = stats.dropna()\n",
    "stats = pd.DataFrame(stats, columns = [\"Pct. increase\"])\n",
    "\n",
    "# average pct increase\n",
    "stats[\"Average pct. increase\"] = [np.mean(data[\"pct. change in gdp\"]), np.mean(data[\"pct. change in priv_cons\"]), np.mean(data[\"pct. change in publ_cons\"]), np.mean(data[\"pct. change in inv\"]), np.mean(data[\"pct. change in exp\"]), np.mean(data[\"pct. change in imp\"]), np.mean(data[\"pct. change in nx\"])]\n",
    "stats[\"Average pct. increase\"] = round(stats[\"Average pct. increase\"],2)\n",
    "\n",
    "stats.rename(index={\"gdp\":\"Gross Domestic Product\"}, inplace=True)\n",
    "stats.rename(index={\"priv_cons\":\"Private Consumption\"}, inplace=True)\n",
    "stats.rename(index={\"publ_cons\":\"Goverment Expenditure\"}, inplace=True)\n",
    "stats.rename(index={\"inv\":\"Investment\"}, inplace=True)\n",
    "stats.rename(index={\"exp\":\"Export\"}, inplace=True)\n",
    "stats.rename(index={\"imp\":\"Import\"}, inplace=True)\n",
    "stats.rename(index={\"nx\":\"Net Export\"}, inplace=True)\n",
    "\n",
    "# Beginning value and end value\n",
    "val_1980 = [data.loc[1980, \"gdp\"], data.loc[1980, \"priv_cons\"], data.loc[1980, \"publ_cons\"], data.loc[1980, \"inv\"], data.loc[1980, \"exp\"], data.loc[1980, \"imp\"], data.loc[1980, \"nx\"]]\n",
    "val_2018 = [data.loc[2018, \"gdp\"], data.loc[2018, \"priv_cons\"], data.loc[2018, \"publ_cons\"], data.loc[2018, \"inv\"], data.loc[2018, \"exp\"], data.loc[2018, \"imp\"], data.loc[2018, \"nx\"]]\n",
    "\n",
    "stats[\"1980 (bn DKK)\"] = val_1980\n",
    "stats[\"2018 (bn DKK)\"] = val_2018\n",
    "\n",
    "stats"
   ]
  },
  {
   "cell_type": "markdown",
   "metadata": {},
   "source": [
    "### 3.1 Interactive plot"
   ]
  },
  {
   "cell_type": "code",
   "execution_count": 33,
   "metadata": {},
   "outputs": [
    {
     "data": {
      "application/vnd.jupyter.widget-view+json": {
       "model_id": "95f35ef6d14c4e8cb9923bf7b1f52abd",
       "version_major": 2,
       "version_minor": 0
      },
      "text/plain": [
       "interactive(children=(Dropdown(description='Variable:', options={'Gross Domestic Product': 'gdp', 'Private con…"
      ]
     },
     "metadata": {},
     "output_type": "display_data"
    }
   ],
   "source": [
    "interactive(my_graph, var = drop, year = slider)"
   ]
  },
  {
   "cell_type": "markdown",
   "metadata": {},
   "source": [
    "### 3.2 Private consumption\n",
    "Consumption has increased from 538.8 billion DKK in 1980 to 958.8 billion DKK in 2018. This translates to an increase of 77.95 % during the entire period, with an average annual growth rate of 1.55 %. GDP went from 1048.1 billion DKK to 2050.5 billion DKK, thus increasing by 95.64 %, during the entire period, meaning an average annual growth rate of 1.8 %.\n",
    "\n",
    "As the figure above shows, the increase in consumption has closely followed that of GDP, with the exception of 1997-2003, where investments seemed to stall, while GDP increased. Both show significant increase during the entire period, except for a few drops in consumption in 1987, 1994 and a larger drop around the period of the 2008 financial crisis."
   ]
  },
  {
   "cell_type": "markdown",
   "metadata": {},
   "source": [
    "### 3.3 Goverment expenditure\n",
    "Government expenditure has increased from 310.2 billion DKK in 1980 to 522.4 billion DKK in 2018, this is an overall total increase of 68.41 %, with an average growth rate of 1.39 % per year. Again, an increase in GDP and Public spending both follow the same development during the time period.\n",
    "\n",
    "We see that the only period where this is nor true, is in the 2008, where GDP drops, but goverment spending increases. This might be partially due to fiscal policy."
   ]
  },
  {
   "cell_type": "markdown",
   "metadata": {},
   "source": [
    "### 3.4 Investment\n",
    "Investments have increased significantly during the period. Gross investments have increased from 259.8 billion DKK in 1980 to 451.4 billion DKK, a total increase of 182.48 %, an average growth rate of 3 %. We also saw earlier that investments make up 22.2 % of GDP, thus showcasing the change in the danish economy in regards to investments.\n",
    "\n",
    "Investments did drop significantly during the late 80's and early 90's, as well as during the financial crisis of 2008, dropping by 15 %. They have, however, seemed to increase from thereon and are currently on their highest ever."
   ]
  },
  {
   "cell_type": "markdown",
   "metadata": {},
   "source": [
    "### 3.5 Net Exports\n",
    "#### 3.5a Export and Import"
   ]
  },
  {
   "cell_type": "code",
   "execution_count": 19,
   "metadata": {},
   "outputs": [
    {
     "data": {
      "image/png": "[encoded data removed]",
      "text/plain": [
       "<Figure size 432x288 with 1 Axes>"
      ]
     },
     "metadata": {},
     "output_type": "display_data"
    }
   ],
   "source": [
    "fig, ax = plt.subplots()\n",
    "\n",
    "ax.plot(data.index,data[\"exp\"])\n",
    "ax.plot(data.index,data[\"imp\"], linestyle = \"--\")\n",
    "\n",
    "ax.set_title(\"Export and Import\")\n",
    "ax.set_xlabel(\"Years\")\n",
    "ax.set_ylabel(\"(Billion DKK)\")\n",
    "\n",
    "ax.legend()\n",
    "plt.show()"
   ]
  },
  {
   "cell_type": "markdown",
   "metadata": {},
   "source": [
    "The figure above shows the change in export and import from 1980-2018. Exports have increased from 245.3 billion DKK in 1980 to 1165.5 billion DKK. This corresponds to a staggering 375.13 % increase in exports in a (roughly) 30 year period. This increase in exports is accompanied with an even larger increase in imports, which has gone from 211.9 billion DKK to 1064.5 billion DKK in 2018, an increase of 402.36 %. These numbers show an overwhelming increase in trade. We will next examine the chnage in the trade decifit (net exports) during the same period."
   ]
  },
  {
   "cell_type": "markdown",
   "metadata": {},
   "source": [
    "#### 3.5b Net Exports\n",
    "Net exports has gone from 33.4 billion DKK in 1980 to 101 billion DKK in 2018, corresponding to a 202.4 % increase, with an average annual growth of 4.6 %. These are impressive numbers considering the short time-petiod and shows an overall progress in the danish economy as a whole."
   ]
  },
  {
   "cell_type": "markdown",
   "metadata": {},
   "source": [
    "## 4. Conclusion"
   ]
  },
  {
   "cell_type": "code",
   "execution_count": 20,
   "metadata": {},
   "outputs": [
    {
     "data": {
      "image/png": "[encoded data removed]",
      "text/plain": [
       "<Figure size 432x288 with 1 Axes>"
      ]
     },
     "metadata": {},
     "output_type": "display_data"
    }
   ],
   "source": [
    "# Drop non-used variables\n",
    "stats2 = stats.drop([\"Gross Domestic Product\", \"Export\", \"Import\"])\n",
    "\n",
    "# Figure\n",
    "fig, ax = plt.subplots()\n",
    "\n",
    "# Define Bars\n",
    "ax.bar(stats2.index, stats2[\"1980 (bn DKK)\"], label = \"1980\", width = 0.5)\n",
    "ax.bar(stats2.index, stats2[\"2018 (bn DKK)\"], label = \"2018\", width = 0.25, align = \"edge\")\n",
    "\n",
    "# Axis Labels\n",
    "ax.set_xticklabels(stats2.index, rotation = 90) #Rotating x-axis labels if long names\n",
    "ax.set_ylabel(\"Billion DKK\")\n",
    "\n",
    "ax.set_title(\"GDP Components 1980 & 2018\")\n",
    "ax.legend()\n",
    "\n",
    "plt.show()"
   ]
  },
  {
   "cell_type": "markdown",
   "metadata": {},
   "source": [
    "As the figure above shows, all the components have increased significantly from 1980 to 2018, as it is to be expected from a developed country. Private consumption has nearly doubled, while goverment expenditure has increased by nearly 70 %. Investment (182.48 %) and Net Exports (202.4 %) have both nearly doubled in value. In this period, the dansih gross domestic product has increased by 95.64 %. The danish GDP is in 2018 a staggering 2050.5 billion DKK. Even though periods of recession have incured, the danish economy has been progressing rapidly."
   ]
  },
  {
   "cell_type": "code",
   "execution_count": null,
   "metadata": {},
   "outputs": [],
   "source": []
  }
 ],
 "metadata": {
  "kernelspec": {
   "display_name": "Python 3",
   "language": "python",
   "name": "python3"
  },
  "language_info": {
   "codemirror_mode": {
    "name": "ipython",
    "version": 3
   },
   "file_extension": ".py",
   "mimetype": "text/x-python",
   "name": "python",
   "nbconvert_exporter": "python",
   "pygments_lexer": "ipython3",
   "version": "3.7.1"
  }
 },
 "nbformat": 4,
 "nbformat_minor": 2
}
